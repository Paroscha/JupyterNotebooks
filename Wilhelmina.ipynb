{
 "cells": [
  {
   "cell_type": "code",
   "execution_count": 1,
   "metadata": {},
   "outputs": [],
   "source": [
    "import cv2\n",
    "import time\n",
    "import datetime\n",
    "import glob\n",
    "import subprocess as sp\n",
    "import numpy as np\n",
    "import pandas as pd\n",
    "import os"
   ]
  },
  {
   "cell_type": "code",
   "execution_count": 2,
   "metadata": {},
   "outputs": [
    {
     "data": {
      "text/html": [
       "<style>.container { width:100% !important; }</style>"
      ],
      "text/plain": [
       "<IPython.core.display.HTML object>"
      ]
     },
     "metadata": {},
     "output_type": "display_data"
    },
    {
     "data": {
      "text/plain": [
       "'https://videos3.earthcam.com/fecnetwork/9974.flv/chunklist_w917803974.m3u8'"
      ]
     },
     "execution_count": 2,
     "metadata": {},
     "output_type": "execute_result"
    }
   ],
   "source": [
    "from IPython.core.display import display, HTML\n",
    "display(HTML(\"<style>.container { width:100% !important; }</style>\"))\n",
    "\n",
    "#import opencv-python as cv\n",
    "VIDEO_URL = \"https://videos3.earthcam.com/fecnetwork/9974.flv/chunklist_w917803974.m3u8\"\n",
    "VIDEO_URL"
   ]
  },
  {
   "cell_type": "code",
   "execution_count": 3,
   "metadata": {},
   "outputs": [],
   "source": [
    "os.getcwd()\n",
    "cam_data_dir = 'data/cam_data/'"
   ]
  },
  {
   "cell_type": "code",
   "execution_count": 4,
   "metadata": {},
   "outputs": [
    {
     "data": {
      "text/plain": [
       "['ffmpeg.exe', 'ffplay.exe', 'ffprobe.exe']"
      ]
     },
     "execution_count": 4,
     "metadata": {},
     "output_type": "execute_result"
    }
   ],
   "source": [
    "ffmpgeg_dir = '../DSR/FFmpeg/bin/'\n",
    "os.listdir(ffmpgeg_dir)"
   ]
  },
  {
   "cell_type": "code",
   "execution_count": 5,
   "metadata": {},
   "outputs": [
    {
     "name": "stderr",
     "output_type": "stream",
     "text": [
      "C:\\ProgramData\\Anaconda3\\envs\\DataScienceRetreat\\lib\\site-packages\\ipykernel_launcher.py:15: DeprecationWarning: The binary mode of fromstring is deprecated, as it behaves surprisingly on unicode inputs. Use frombuffer instead\n",
      "  from ipykernel import kernelapp as app\n"
     ]
    },
    {
     "ename": "KeyboardInterrupt",
     "evalue": "",
     "output_type": "error",
     "traceback": [
      "\u001b[1;31m---------------------------------------------------------------------------\u001b[0m",
      "\u001b[1;31mKeyboardInterrupt\u001b[0m                         Traceback (most recent call last)",
      "\u001b[1;32m<ipython-input-5-cdd7e24f62fd>\u001b[0m in \u001b[0;36m<module>\u001b[1;34m()\u001b[0m\n\u001b[0;32m     14\u001b[0m     \u001b[0mraw_image\u001b[0m \u001b[1;33m=\u001b[0m \u001b[0mpipe\u001b[0m\u001b[1;33m.\u001b[0m\u001b[0mstdout\u001b[0m\u001b[1;33m.\u001b[0m\u001b[0mread\u001b[0m\u001b[1;33m(\u001b[0m\u001b[1;36m1280\u001b[0m\u001b[1;33m*\u001b[0m\u001b[1;36m720\u001b[0m\u001b[1;33m*\u001b[0m\u001b[1;36m3\u001b[0m\u001b[1;33m)\u001b[0m\u001b[1;33m\u001b[0m\u001b[0m\n\u001b[0;32m     15\u001b[0m     \u001b[0mimage\u001b[0m \u001b[1;33m=\u001b[0m \u001b[0mnp\u001b[0m\u001b[1;33m.\u001b[0m\u001b[0mfromstring\u001b[0m\u001b[1;33m(\u001b[0m\u001b[0mraw_image\u001b[0m\u001b[1;33m,\u001b[0m \u001b[0mdtype\u001b[0m\u001b[1;33m=\u001b[0m\u001b[1;34m'uint8'\u001b[0m\u001b[1;33m)\u001b[0m\u001b[1;33m.\u001b[0m\u001b[0mreshape\u001b[0m\u001b[1;33m(\u001b[0m\u001b[1;33m(\u001b[0m\u001b[1;36m720\u001b[0m\u001b[1;33m,\u001b[0m\u001b[1;36m1280\u001b[0m\u001b[1;33m,\u001b[0m\u001b[1;36m3\u001b[0m\u001b[1;33m)\u001b[0m\u001b[1;33m)\u001b[0m\u001b[1;33m\u001b[0m\u001b[0m\n\u001b[1;32m---> 16\u001b[1;33m     \u001b[0mcv2\u001b[0m\u001b[1;33m.\u001b[0m\u001b[0mimshow\u001b[0m\u001b[1;33m(\u001b[0m\u001b[1;34m\"Streetcam\"\u001b[0m\u001b[1;33m,\u001b[0m\u001b[0mimage\u001b[0m\u001b[1;33m)\u001b[0m\u001b[1;33m\u001b[0m\u001b[0m\n\u001b[0m\u001b[0;32m     17\u001b[0m \u001b[1;33m\u001b[0m\u001b[0m\n\u001b[0;32m     18\u001b[0m     \u001b[1;32mif\u001b[0m \u001b[0mcv2\u001b[0m\u001b[1;33m.\u001b[0m\u001b[0mwaitKey\u001b[0m\u001b[1;33m(\u001b[0m\u001b[1;36m1\u001b[0m\u001b[1;33m)\u001b[0m \u001b[1;33m==\u001b[0m \u001b[1;36m2\u001b[0m\u001b[1;33m:\u001b[0m\u001b[1;33m\u001b[0m\u001b[0m\n",
      "\u001b[1;31mKeyboardInterrupt\u001b[0m: "
     ]
    }
   ],
   "source": [
    "cv2.namedWindow(\"Streetcam\", cv2.WINDOW_NORMAL)\n",
    "FFMPEG_BIN = ffmpgeg_dir + \"ffmpeg\"\n",
    "\n",
    "command = [FFMPEG_BIN, \"-i\", VIDEO_URL,\n",
    "           \"-loglevel\", \"quiet\",  # no text output\n",
    "           \"-an\",   # disable audio\n",
    "           \"-f\", \"image2pipe\",\n",
    "           \"-pix_fmt\", \"bgr24\",\n",
    "           \"-vcodec\", \"rawvideo\", \"-\"\n",
    "           ]\n",
    "pipe = sp.Popen(command, stdin = sp.PIPE, stdout = sp.PIPE)\n",
    "\n",
    "while True:\n",
    "    raw_image = pipe.stdout.read(1280*720*3) \n",
    "    image = np.fromstring(raw_image, dtype='uint8').reshape((720,1280,3))\n",
    "    cv2.imshow(\"Streetcam\",image)\n",
    "    \n",
    "    if cv2.waitKey(1) == 2:\n",
    "        break"
   ]
  },
  {
   "cell_type": "code",
   "execution_count": null,
   "metadata": {},
   "outputs": [],
   "source": [
    "while True:\n",
    "    raw_image = pipe.stdout.read(1280*720*3) \n",
    "    image = np.fromstring(raw_image, dtype='uint8').reshape((720,1280,3))\n",
    "    cv2.imshow(\"Streetcam\",image)"
   ]
  },
  {
   "cell_type": "code",
   "execution_count": null,
   "metadata": {},
   "outputs": [],
   "source": [
    "files_new = set()\n",
    "files_wr = set()\n",
    "\n",
    "files = glob.glob(cam_data_dir + \"*.jpg\")\n",
    "print(len(files),sorted(files))"
   ]
  },
  {
   "cell_type": "code",
   "execution_count": null,
   "metadata": {},
   "outputs": [],
   "source": [
    "# -------- sorting paths in the txt file using the union\n",
    "with open('cam_images.txt', 'w') as f:\n",
    "    for item in sorted(files):\n",
    "        f.write(\"%s\\n\" % item)\n",
    "\n",
    "files_wr = files_wr.union(set(files))\n",
    "print(files_wr)\n",
    "print(type(files_wr))\n",
    "\n",
    "def print_time(comment):\n",
    "    ts = time.time()\n",
    "    st = datetime.datetime.fromtimestamp(ts).strftime(\"%H:%M:%S.%f\")[:-3]\n",
    "    print(comment, st)\n",
    "\n",
    "# Would like write all print outs to a log file - How :( ?\n",
    "while True:\n",
    "    # Run below code in while loop for actual normal frames || 16:44\n",
    "    # raw_image = pipe.stdout.read(420*360*3) # read 432*240*3 bytes (= 1 frame)\n",
    "    # image =  np.fromstring(raw_image, dtype='uint8').reshape((360,420,3))\n",
    "    print(\"\")\n",
    "    print(\"Number \"+str(counter))\n",
    "    print_time(\"Beginning\")\n",
    "    raw_image = pipe.stdout.read(1280*720*3) # read 432*240*3 bytes (= 1 frame)\n",
    "    print_time(\"reading image\")\n",
    "    print(raw_image is None)\n",
    "    image = np.fromstring(raw_image, dtype='uint8').reshape((720,1280,3))\n",
    "    print_time(\"showing image\")\n",
    "    cv2.imshow(\"Streetcam\",image)\n",
    "    print_time(\"\")\n",
    "    #sckit for img processing. s3 fs to plug it into cv2 for img writing.\n",
    "    #Srcript Credit Pascal Schambach - Helped rewrite this\n",
    "    ts = time.time()\n",
    "    st = datetime.datetime.fromtimestamp(ts).strftime('_%Y%m%d_%H%M%S')\n",
    "    new_filename = 'capture' + st + '.jpg' #jpg smaller than >png (transparent)\n",
    "    print(new_filename)\n",
    "    #---\n",
    "    print_time(\"write to path\")\n",
    "    cv2.imwrite(filepath.format(new_filename), image) #write to a filepath, by timestamp\n",
    "    files = glob.glob(\"cam_data/*.jpg\")\n",
    "    new_files = set(files) - files_wr\n",
    "    # -------- sorting paths in the txt file using the union\n",
    "    print_time(\"Soting images\")\n",
    "    with open('cam_images.txt', 'a+') as f:\n",
    "        for item in sorted(new_files):\n",
    "            f.write(\"%s\\n\" % item)\n",
    "\n",
    "    files_wr = files_wr.union(new_files)\n",
    "\n",
    "\n",
    "    # What is happening here :( I get these glitched frames, must resolve\n",
    "    # Use wait key 0 or ? This bit is a little confusing.\n",
    "    print_time(\"wait key\")\n",
    "    if cv2.waitKey(1) == 2:\n",
    "        break\n",
    "\n",
    "\n",
    "    counter += 1\n",
    "\n",
    "# This does not seem to work."
   ]
  },
  {
   "cell_type": "code",
   "execution_count": null,
   "metadata": {},
   "outputs": [],
   "source": [
    "cv2.destroyAllWindows()"
   ]
  },
  {
   "cell_type": "code",
   "execution_count": null,
   "metadata": {},
   "outputs": [],
   "source": []
  }
 ],
 "metadata": {
  "kernelspec": {
   "display_name": "Python 3",
   "language": "python",
   "name": "python3"
  },
  "language_info": {
   "codemirror_mode": {
    "name": "ipython",
    "version": 3
   },
   "file_extension": ".py",
   "mimetype": "text/x-python",
   "name": "python",
   "nbconvert_exporter": "python",
   "pygments_lexer": "ipython3",
   "version": "3.6.6"
  }
 },
 "nbformat": 4,
 "nbformat_minor": 2
}
