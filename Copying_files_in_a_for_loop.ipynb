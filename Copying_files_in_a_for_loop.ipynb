{
 "cells": [
  {
   "cell_type": "code",
   "execution_count": 7,
   "metadata": {},
   "outputs": [
    {
     "data": {
      "text/plain": [
       "'predictions_20181126_150922.png'"
      ]
     },
     "execution_count": 7,
     "metadata": {},
     "output_type": "execute_result"
    }
   ],
   "source": [
    "import time\n",
    "import datetime\n",
    "from shutil import copyfile\n",
    "\n",
    "\n",
    "for i in range(5):\n",
    "\n",
    "    ts = time.time()\n",
    "\n",
    "    st = datetime.datetime.fromtimestamp(ts).strftime('_%Y%m%d_%H%M%S')\n",
    "    new_filename = 'predictions' + st + '.png'\n",
    "\n",
    "    copyfile('predictions.png','target_folder/'+ new_filename)\n",
    "\n",
    "    time.sleep(20)"
   ]
  }
 ],
 "metadata": {
  "kernelspec": {
   "display_name": "Python 3",
   "language": "python",
   "name": "python3"
  },
  "language_info": {
   "codemirror_mode": {
    "name": "ipython",
    "version": 3
   },
   "file_extension": ".py",
   "mimetype": "text/x-python",
   "name": "python",
   "nbconvert_exporter": "python",
   "pygments_lexer": "ipython3",
   "version": "3.6.5"
  }
 },
 "nbformat": 4,
 "nbformat_minor": 2
}
