{
 "cells": [
  {
   "cell_type": "markdown",
   "metadata": {
    "collapsed": true
   },
   "source": [
    "# Mini-Competition: One-Day Start to Finish Data Science Project\n",
    "\n",
    "## The Task:\n",
    "The task is to complete a full, start-to-finish data science project in one(ish) day, using the \"best practice\" skills we've learned over the past day of the course. \n",
    "\n",
    "## The Data:\n",
    "The data shows real property information, including most recent sales price as of July 2018, for properties located Washington, D.C. The goal is to predict housing prices in DC. It is from [Kaggle](https://www.kaggle.com/christophercorrea/dc-residential-properties/version/7).\n",
    "\n",
    "### Step 1: Exploration\n",
    "- Explore the data and verify it, using tests of course! \n",
    "- At least 1 visualization of the data\n",
    "\n",
    "### Step 2: Model Selection\n",
    "- MUST use gridsearchCV in a pipeline!!\n",
    "\n",
    "### Step 3: Production\n",
    "- Once you've selected your desired model, put it (and the necessary feature engineering) in a pipeline. \n",
    "- Add at least 2 tests, including one for your final output!\n",
    "- Bonus points if your predictor runs as its own python program from command line (rather than in a notebook).\n",
    "\n",
    "Metric used to judge will be MAE (mean absolute error).\n",
    "The team with the lowest MAE on the holdout test set at the end of Wednesday wins!"
   ]
  },
  {
   "cell_type": "code",
   "execution_count": 14,
   "metadata": {},
   "outputs": [],
   "source": [
    "import pandas as pd\n",
    "import numpy as np\n",
    "import datetime"
   ]
  },
  {
   "cell_type": "code",
   "execution_count": 15,
   "metadata": {},
   "outputs": [],
   "source": [
    "from sklearn.base import BaseEstimator, TransformerMixin\n",
    "from sklearn.feature_extraction import DictVectorizer\n",
    "from sklearn.pipeline import make_pipeline, make_union\n",
    "from sklearn.preprocessing import Imputer"
   ]
  },
  {
   "cell_type": "code",
   "execution_count": 17,
   "metadata": {},
   "outputs": [],
   "source": [
    "from category_encoders.ordinal import OrdinalEncoder\n",
    "from category_encoders.one_hot import OneHotEncoder\n",
    "from sklearn.preprocessing import StandardScaler"
   ]
  },
  {
   "cell_type": "code",
   "execution_count": 19,
   "metadata": {},
   "outputs": [],
   "source": [
    "filepath = \"E:\\Pascal\\DSR\\DataSets\\DC_Properties.csv\"\n",
    "df = pd.read_csv(filepath, index_col=0, low_memory=False)"
   ]
  },
  {
   "cell_type": "code",
   "execution_count": 20,
   "metadata": {},
   "outputs": [],
   "source": [
    "class ColumnSelector(BaseEstimator,TransformerMixin):\n",
    "    \n",
    "    def __init__(self, columns):\n",
    "        self.columns = columns\n",
    "    \n",
    "    def transform(self, x):\n",
    "        current_cols = list(set(self.columns) & set(x.columns))\n",
    "        return x.loc[:,current_cols]\n",
    "    \n",
    "    def fit(self, x, y = None):\n",
    "        return self"
   ]
  },
  {
   "cell_type": "code",
   "execution_count": 21,
   "metadata": {},
   "outputs": [],
   "source": [
    "class RowNanReplacer(BaseEstimator,TransformerMixin):\n",
    "    \n",
    "    def __init__(self):\n",
    "        pass   \n",
    "    \n",
    "    def transform(self, x):\n",
    "        for col in x.columns:\n",
    "            if x[col].dtype in [np.int64,np.int32,np.int16,np.int]:\n",
    "                integer_mean = np.round(x[col].mean(),0).astype(x[col].dtype)\n",
    "                val_dict = {col: integer_mean}\n",
    "                x = x.fillna(val_dict)\n",
    "            elif x[col].dtype in [np.float64,np.float32,np.float16,np.float]:\n",
    "                float_mean = x[col].mean()\n",
    "                val_dict = {col: float_mean}\n",
    "                x = x.fillna(val_dict)\n",
    "            else:\n",
    "                most_freq = x[col].value_counts().idxmax()\n",
    "                val_dict = {col: most_freq}\n",
    "                x = x.fillna(val_dict)\n",
    "        return x\n",
    "    \n",
    "    def fit(self, x, y = None):\n",
    "        return self"
   ]
  },
  {
   "cell_type": "code",
   "execution_count": 22,
   "metadata": {},
   "outputs": [],
   "source": [
    "class ColumnSelectorWithNanThreshold(BaseEstimator,TransformerMixin):\n",
    "    \n",
    "    def __init__(self, threshold):\n",
    "        self.threshold = threshold\n",
    "        \n",
    "    \n",
    "    def transform(self, x):\n",
    "        self.columns = []\n",
    "        for col in x.columns:\n",
    "            if x[col].isna().sum() < self.threshold:\n",
    "                self.columns.append(col)\n",
    "        return x.loc[:,self.columns]\n",
    "    \n",
    "    def fit(self, x, y = None):\n",
    "        return self"
   ]
  },
  {
   "cell_type": "code",
   "execution_count": 23,
   "metadata": {},
   "outputs": [],
   "source": [
    "class ColumnSelectorWithCorrThreshold(BaseEstimator,TransformerMixin):\n",
    "    \n",
    "    def __init__(self, threshold):\n",
    "        self.threshold = threshold\n",
    "        \n",
    "    \n",
    "    def transform(self, x, verbose = False):\n",
    "        self.removed_features = []\n",
    "        self.corr = x.corr()\n",
    "        self.columns = []\n",
    "        \n",
    "        for col in self.corr.columns:\n",
    "            if col in self.removed_features:\n",
    "                continue\n",
    "            for row in list(self.corr[col].index):\n",
    "                if row in self.removed_features:\n",
    "                    continue\n",
    "                if (row != col):\n",
    "                    c = abs(self.corr[col][row])\n",
    "                    if (c > self.threshold):\n",
    "                        self.removed_features.append(row)\n",
    "                        if verbose:\n",
    "                            print(\"detected corr:\",col,row,c)\n",
    "\n",
    "        for col in x.columns:\n",
    "            if col not in self.removed_features:\n",
    "                self.columns.append(col)\n",
    "                \n",
    "        return x.loc[:,self.columns]\n",
    "    \n",
    "    def fit(self, x, y = None):\n",
    "        return self"
   ]
  },
  {
   "cell_type": "code",
   "execution_count": 24,
   "metadata": {},
   "outputs": [],
   "source": [
    "class DateToYearTranformer(BaseEstimator,TransformerMixin):\n",
    "    \n",
    "    def __init__(self, columns):\n",
    "        self.columns = columns\n",
    "        \n",
    "    \n",
    "    def transform(self, x):\n",
    "        for col in self.columns:\n",
    "            year_col = pd.to_datetime(x[col]).dt.year\n",
    "            x.drop(columns = col, inplace = True)\n",
    "            x[col] = year_col\n",
    "        return x\n",
    "    \n",
    "    def fit(self, x, y = None):\n",
    "        return self"
   ]
  },
  {
   "cell_type": "code",
   "execution_count": 29,
   "metadata": {},
   "outputs": [],
   "source": [
    "discrete_col = ['BATHRM','HF_BATHRM','ROOMS','BEDRM','AYB','EYB','SALEDATE','FIREPLACES']\n",
    "numeric_col = ['LATITUDE','LONGITUDE','CENSUS_TRACT','LANDAREA']\n",
    "label_encode_column = ['HEAT','SALE_NUM','GIS_LAST_MOD_DTTM','SOURCE','ASSESSMENT_NBHD','USECODE','ZIPCODE','SQUARE','WARD']\n",
    "one_hot_encode_column = ['QUALIFIED','AC','BLDG_NUM','QUADRANT']"
   ]
  },
  {
   "cell_type": "code",
   "execution_count": 26,
   "metadata": {},
   "outputs": [
    {
     "name": "stdout",
     "output_type": "stream",
     "text": [
      "(158957, 48)\n",
      "(98216, 48)\n"
     ]
    }
   ],
   "source": [
    "df = pd.read_csv(filepath, index_col=0, low_memory=False)\n",
    "print(df.shape)\n",
    "df.drop(df[df['PRICE'].isnull()].index, inplace=True)\n",
    "print(df.shape)\n",
    "all_columns = list(df.columns)\n",
    "target = df['PRICE']\n",
    "features = df.drop('PRICE', axis=1)"
   ]
  },
  {
   "cell_type": "code",
   "execution_count": 27,
   "metadata": {},
   "outputs": [],
   "source": [
    "from sklearn.pipeline import make_pipeline, make_union"
   ]
  },
  {
   "cell_type": "code",
   "execution_count": 30,
   "metadata": {},
   "outputs": [],
   "source": [
    "# process the numeric and categorical columns.\n",
    "# then, join them all together.\n",
    "\n",
    "processing_pipeline = make_pipeline(\n",
    "    # If using make_union, then we HAVE to first select all the columns we will pull from.\n",
    "    \n",
    "    #ColumnSelector(all_columns),\n",
    "    ColumnSelectorWithNanThreshold(20000),\n",
    "    ColumnSelectorWithCorrThreshold(0.9),\n",
    "    RowNanReplacer(),\n",
    "    DateToYearTranformer([\"SALEDATE\"]),\n",
    "    \n",
    "    make_union(\n",
    "        # First, we select and 'hold out' the binary variables, as we wont do any further work to them.\n",
    "        make_pipeline(ColumnSelector(discrete_col),\n",
    "        ),\n",
    "        # Pipeline for numeric features\n",
    "        make_pipeline(\n",
    "            ColumnSelector(numeric_col),\n",
    "            StandardScaler()\n",
    "        ),\n",
    "        # Pipeline for label encoded features\n",
    "        make_pipeline(\n",
    "            ColumnSelector(label_encode_column),\n",
    "            OrdinalEncoder()\n",
    "        ),\n",
    "        \n",
    "        # Pipeline for one-hot-encoded features\n",
    "        make_pipeline(\n",
    "            ColumnSelector(one_hot_encode_column),\n",
    "            OneHotEncoder()\n",
    "        )\n",
    "    )\n",
    ")\n"
   ]
  },
  {
   "cell_type": "code",
   "execution_count": 32,
   "metadata": {},
   "outputs": [],
   "source": [
    "from sklearn.model_selection import train_test_split\n",
    "x_train, x_test, y_train, y_test = train_test_split(features, target, test_size=0.2, random_state=10)"
   ]
  },
  {
   "cell_type": "code",
   "execution_count": 33,
   "metadata": {},
   "outputs": [
    {
     "name": "stdout",
     "output_type": "stream",
     "text": [
      "(78572, 47) (78572,)\n"
     ]
    }
   ],
   "source": [
    "print(x_train.shape, y_train.shape)"
   ]
  },
  {
   "cell_type": "code",
   "execution_count": 34,
   "metadata": {},
   "outputs": [
    {
     "name": "stderr",
     "output_type": "stream",
     "text": [
      "E:\\Programme\\Anaconda3\\lib\\site-packages\\sklearn\\preprocessing\\data.py:617: DataConversionWarning: Data with input dtype int64, float64 were all converted to float64 by StandardScaler.\n",
      "  return self.partial_fit(X, y)\n",
      "E:\\Programme\\Anaconda3\\lib\\site-packages\\sklearn\\base.py:462: DataConversionWarning: Data with input dtype int64, float64 were all converted to float64 by StandardScaler.\n",
      "  return self.fit(X, **fit_params).transform(X)\n"
     ]
    },
    {
     "name": "stdout",
     "output_type": "stream",
     "text": [
      "shape: (98216, 34)\n",
      "<class 'numpy.ndarray'>\n",
      "<class 'sklearn.pipeline.Pipeline'>\n"
     ]
    }
   ],
   "source": [
    "processed = processing_pipeline.fit_transform(features)\n",
    "print(\"shape:\",processed.shape)\n",
    "print(type(processed))\n",
    "print(type(processing_pipeline))"
   ]
  },
  {
   "cell_type": "code",
   "execution_count": 35,
   "metadata": {},
   "outputs": [],
   "source": [
    "from sklearn.metrics import mean_squared_error, mean_absolute_error, r2_score\n",
    "from sklearn.model_selection import cross_val_predict\n",
    "from sklearn.ensemble import RandomForestRegressor, AdaBoostRegressor\n",
    "from math import sqrt\n",
    "import matplotlib.pyplot as plt"
   ]
  },
  {
   "cell_type": "code",
   "execution_count": 36,
   "metadata": {},
   "outputs": [
    {
     "name": "stdout",
     "output_type": "stream",
     "text": [
      "<class 'sklearn.pipeline.Pipeline'>\n"
     ]
    },
    {
     "name": "stderr",
     "output_type": "stream",
     "text": [
      "E:\\Programme\\Anaconda3\\lib\\site-packages\\sklearn\\preprocessing\\data.py:617: DataConversionWarning: Data with input dtype int64, float64 were all converted to float64 by StandardScaler.\n",
      "  return self.partial_fit(X, y)\n",
      "E:\\Programme\\Anaconda3\\lib\\site-packages\\sklearn\\base.py:465: DataConversionWarning: Data with input dtype int64, float64 were all converted to float64 by StandardScaler.\n",
      "  return self.fit(X, y, **fit_params).transform(X)\n"
     ]
    },
    {
     "name": "stdout",
     "output_type": "stream",
     "text": [
      "<class 'sklearn.pipeline.Pipeline'>\n"
     ]
    }
   ],
   "source": [
    "finalpipeline = (\n",
    "    \n",
    "    make_pipeline(\n",
    "        \n",
    "        processing_pipeline, \n",
    "        \n",
    "        RandomForestRegressor(\n",
    "            random_state=1, \n",
    "            n_jobs=-1, \n",
    "            n_estimators=100\n",
    "        )\n",
    "    )\n",
    ")\n",
    "# Fitting the pipeline\n",
    "print(type(finalpipeline))\n",
    "finalpipeline.fit(x_train, y_train)\n",
    "print(type(finalpipeline))"
   ]
  },
  {
   "cell_type": "code",
   "execution_count": 37,
   "metadata": {},
   "outputs": [
    {
     "name": "stdout",
     "output_type": "stream",
     "text": [
      "931351.5949336156\n"
     ]
    }
   ],
   "source": [
    "mean_price = df['PRICE'].mean()\n",
    "print(mean_price)"
   ]
  },
  {
   "cell_type": "code",
   "execution_count": 38,
   "metadata": {},
   "outputs": [],
   "source": [
    "def compare_predictions(x, y, finalpipeline, mean_target_value):\n",
    "    # generate predictions:\n",
    "    # Note: finalpipeline must have already been fit.\n",
    "    \n",
    "    predictions = finalpipeline.predict(x)\n",
    "    y = y.reset_index()\n",
    "    y.drop('index', axis=1, inplace=True)\n",
    "    \n",
    "    # a \"lazy prediction\" is where we return the average value of the target for every prediction.\n",
    "    lazy_predictions = np.full(predictions.shape, mean_target_value)\n",
    "    \n",
    "    final_predictions = pd.DataFrame(pd.concat([y, \n",
    "                                                pd.Series(predictions), \n",
    "                                                pd.Series(lazy_predictions)], axis=1))\n",
    "    final_predictions.rename(columns={'PRICE': 'True values',\n",
    "                                      0: 'Predicted values',\n",
    "                                      1: 'Lazy Predicted values'}, inplace=True)\n",
    "    \n",
    "    rmse_lazy = sqrt(mean_squared_error(y, lazy_predictions))\n",
    "    mae_lazy = mean_absolute_error(y, lazy_predictions)\n",
    "    r2_lazy = r2_score(y, lazy_predictions)\n",
    "    \n",
    "    rmse = sqrt(mean_squared_error(y, predictions))\n",
    "    mae = mean_absolute_error(y, predictions)\n",
    "    r2 = r2_score(y, predictions)\n",
    "    \n",
    "    print('RMSE Lazy Predictor', rmse_lazy)\n",
    "    print('MAE Lazy Predictor', mae_lazy)\n",
    "    print('R^2 Lazy Predictor', r2_lazy)\n",
    "    print()\n",
    "    print('RMSE', rmse)\n",
    "    print('MAE', mae)\n",
    "    print('R^2', r2)\n",
    "    print()\n",
    "    print('RMSE Improvement:', rmse_lazy - rmse)\n",
    "    print('MAE Inprovement:', mae_lazy - mae)\n",
    "    print('R^2 Improvement:', abs(r2_lazy - r2))\n",
    "    \n",
    "    \n",
    "    plt.figure(figsize=(20,10))\n",
    "\n",
    "    plt.plot(final_predictions.index, final_predictions['True values'], c='red', label='True Values')\n",
    "    # plot a second data series 'Short students' in blue using the last three elements of x and y \n",
    "    plt.plot(final_predictions.index, final_predictions['Predicted values'], c='blue', label='Predicted Values')\n",
    "    plt.plot(final_predictions.index, final_predictions['Lazy Predicted values'], c='black', label='Lazy Predicted Values')\n",
    "    plt.legend(loc='best')\n",
    "    plt.show()\n",
    "    return predictions"
   ]
  },
  {
   "cell_type": "code",
   "execution_count": 39,
   "metadata": {},
   "outputs": [
    {
     "name": "stderr",
     "output_type": "stream",
     "text": [
      "E:\\Programme\\Anaconda3\\lib\\site-packages\\sklearn\\pipeline.py:451: DataConversionWarning: Data with input dtype int64, float64 were all converted to float64 by StandardScaler.\n",
      "  Xt = transform.transform(Xt)\n"
     ]
    },
    {
     "name": "stdout",
     "output_type": "stream",
     "text": [
      "RMSE Lazy Predictor 6965908.553101111\n",
      "MAE Lazy Predictor 940545.1560850014\n",
      "R^2 Lazy Predictor -2.7906616772988002e-06\n",
      "\n",
      "RMSE 628636.082225401\n",
      "MAE 38050.65692334423\n",
      "R^2 0.9918558777522866\n",
      "\n",
      "RMSE Improvement: 6337272.47087571\n",
      "MAE Inprovement: 902494.4991616572\n",
      "R^2 Improvement: 0.9918586684139639\n"
     ]
    },
    {
     "data": {
      "image/png": "[encoded data removed]",
      "text/plain": [
       "<Figure size 1440x720 with 1 Axes>"
      ]
     },
     "metadata": {},
     "output_type": "display_data"
    }
   ],
   "source": [
    "predictions_train = compare_predictions(x_train, y_train, finalpipeline, mean_price)"
   ]
  },
  {
   "cell_type": "code",
   "execution_count": 40,
   "metadata": {},
   "outputs": [
    {
     "name": "stderr",
     "output_type": "stream",
     "text": [
      "E:\\Programme\\Anaconda3\\lib\\site-packages\\sklearn\\pipeline.py:451: DataConversionWarning: Data with input dtype int64, float64 were all converted to float64 by StandardScaler.\n",
      "  Xt = transform.transform(Xt)\n"
     ]
    },
    {
     "name": "stdout",
     "output_type": "stream",
     "text": [
      "RMSE Lazy Predictor 7430559.32814556\n",
      "MAE Lazy Predictor 992866.9755342999\n",
      "R^2 Lazy Predictor -3.923840159458791e-05\n",
      "\n",
      "RMSE 1403017.2275440407\n",
      "MAE 106443.73654508826\n",
      "R^2 0.9643466751683788\n",
      "\n",
      "RMSE Improvement: 6027542.100601519\n",
      "MAE Inprovement: 886423.2389892116\n",
      "R^2 Improvement: 0.9643859135699734\n"
     ]
    },
    {
     "data": {
      "image/png": "[encoded data removed]",
      "text/plain": [
       "<Figure size 1440x720 with 1 Axes>"
      ]
     },
     "metadata": {},
     "output_type": "display_data"
    }
   ],
   "source": [
    "predictions_test = compare_predictions(x_test, y_test, finalpipeline, mean_price)"
   ]
  },
  {
   "cell_type": "code",
   "execution_count": 41,
   "metadata": {},
   "outputs": [
    {
     "name": "stdout",
     "output_type": "stream",
     "text": [
      "{'randomforestregressor__n_estimators': [100, 500, 1000]}\n"
     ]
    }
   ],
   "source": [
    "# Number of trees in random forest\n",
    "n_estimators = [100, 500, 1000]\n",
    "# Number of features to consider at every split\n",
    "max_features = [5, 10, 'sqrt']\n",
    "# Maximum number of levels in tree\n",
    "max_depth = [int(x) for x in np.linspace(5, 110, num = 4)]\n",
    "max_depth.append(None)\n",
    "\n",
    "# Create the random grid\n",
    "random_grid = {'randomforestregressor__n_estimators': n_estimators,\n",
    "               'randomforestregressor__max_features': max_features,\n",
    "               'randomforestregressor__max_depth': max_depth,\n",
    "              }\n",
    "\n",
    "random_grid = {'randomforestregressor__n_estimators': n_estimators,}\n",
    "print(random_grid)"
   ]
  },
  {
   "cell_type": "code",
   "execution_count": 42,
   "metadata": {},
   "outputs": [],
   "source": [
    "import sklearn\n",
    "#from sklearn.grid_search import GridSearchCV, RandomizedSearchCV\n",
    "from sklearn.model_selection import GridSearchCV, RandomizedSearchCV"
   ]
  },
  {
   "cell_type": "code",
   "execution_count": 44,
   "metadata": {},
   "outputs": [
    {
     "name": "stdout",
     "output_type": "stream",
     "text": [
      "Grid search\n",
      "\n",
      "\n",
      "Fitting 3 folds for each of 3 candidates, totalling 9 fits\n"
     ]
    },
    {
     "name": "stderr",
     "output_type": "stream",
     "text": [
      "E:\\Programme\\Anaconda3\\lib\\site-packages\\sklearn\\model_selection\\_split.py:1943: FutureWarning: You should specify a value for 'cv' instead of relying on the default value. The default value will change from 3 to 5 in version 0.22.\n",
      "  warnings.warn(CV_WARNING, FutureWarning)\n",
      "[Parallel(n_jobs=1)]: Using backend SequentialBackend with 1 concurrent workers.\n",
      "E:\\Programme\\Anaconda3\\lib\\site-packages\\sklearn\\preprocessing\\data.py:617: DataConversionWarning: Data with input dtype int64, float64 were all converted to float64 by StandardScaler.\n",
      "  return self.partial_fit(X, y)\n",
      "E:\\Programme\\Anaconda3\\lib\\site-packages\\sklearn\\base.py:465: DataConversionWarning: Data with input dtype int64, float64 were all converted to float64 by StandardScaler.\n",
      "  return self.fit(X, y, **fit_params).transform(X)\n",
      "E:\\Programme\\Anaconda3\\lib\\site-packages\\sklearn\\pipeline.py:451: DataConversionWarning: Data with input dtype int64, float64 were all converted to float64 by StandardScaler.\n",
      "  Xt = transform.transform(Xt)\n",
      "E:\\Programme\\Anaconda3\\lib\\site-packages\\sklearn\\pipeline.py:451: DataConversionWarning: Data with input dtype int64, float64 were all converted to float64 by StandardScaler.\n",
      "  Xt = transform.transform(Xt)\n",
      "E:\\Programme\\Anaconda3\\lib\\site-packages\\sklearn\\preprocessing\\data.py:617: DataConversionWarning: Data with input dtype int64, float64 were all converted to float64 by StandardScaler.\n",
      "  return self.partial_fit(X, y)\n",
      "E:\\Programme\\Anaconda3\\lib\\site-packages\\sklearn\\base.py:465: DataConversionWarning: Data with input dtype int64, float64 were all converted to float64 by StandardScaler.\n",
      "  return self.fit(X, y, **fit_params).transform(X)\n",
      "E:\\Programme\\Anaconda3\\lib\\site-packages\\sklearn\\pipeline.py:451: DataConversionWarning: Data with input dtype int64, float64 were all converted to float64 by StandardScaler.\n",
      "  Xt = transform.transform(Xt)\n",
      "E:\\Programme\\Anaconda3\\lib\\site-packages\\sklearn\\pipeline.py:451: DataConversionWarning: Data with input dtype int64, float64 were all converted to float64 by StandardScaler.\n",
      "  Xt = transform.transform(Xt)\n",
      "E:\\Programme\\Anaconda3\\lib\\site-packages\\sklearn\\preprocessing\\data.py:617: DataConversionWarning: Data with input dtype int64, float64 were all converted to float64 by StandardScaler.\n",
      "  return self.partial_fit(X, y)\n",
      "E:\\Programme\\Anaconda3\\lib\\site-packages\\sklearn\\base.py:465: DataConversionWarning: Data with input dtype int64, float64 were all converted to float64 by StandardScaler.\n",
      "  return self.fit(X, y, **fit_params).transform(X)\n",
      "E:\\Programme\\Anaconda3\\lib\\site-packages\\sklearn\\pipeline.py:451: DataConversionWarning: Data with input dtype int64, float64 were all converted to float64 by StandardScaler.\n",
      "  Xt = transform.transform(Xt)\n",
      "E:\\Programme\\Anaconda3\\lib\\site-packages\\sklearn\\pipeline.py:451: DataConversionWarning: Data with input dtype int64, float64 were all converted to float64 by StandardScaler.\n",
      "  Xt = transform.transform(Xt)\n",
      "E:\\Programme\\Anaconda3\\lib\\site-packages\\sklearn\\preprocessing\\data.py:617: DataConversionWarning: Data with input dtype int64, float64 were all converted to float64 by StandardScaler.\n",
      "  return self.partial_fit(X, y)\n",
      "E:\\Programme\\Anaconda3\\lib\\site-packages\\sklearn\\base.py:465: DataConversionWarning: Data with input dtype int64, float64 were all converted to float64 by StandardScaler.\n",
      "  return self.fit(X, y, **fit_params).transform(X)\n",
      "E:\\Programme\\Anaconda3\\lib\\site-packages\\sklearn\\pipeline.py:451: DataConversionWarning: Data with input dtype int64, float64 were all converted to float64 by StandardScaler.\n",
      "  Xt = transform.transform(Xt)\n",
      "E:\\Programme\\Anaconda3\\lib\\site-packages\\sklearn\\pipeline.py:451: DataConversionWarning: Data with input dtype int64, float64 were all converted to float64 by StandardScaler.\n",
      "  Xt = transform.transform(Xt)\n",
      "E:\\Programme\\Anaconda3\\lib\\site-packages\\sklearn\\preprocessing\\data.py:617: DataConversionWarning: Data with input dtype int64, float64 were all converted to float64 by StandardScaler.\n",
      "  return self.partial_fit(X, y)\n",
      "E:\\Programme\\Anaconda3\\lib\\site-packages\\sklearn\\base.py:465: DataConversionWarning: Data with input dtype int64, float64 were all converted to float64 by StandardScaler.\n",
      "  return self.fit(X, y, **fit_params).transform(X)\n",
      "E:\\Programme\\Anaconda3\\lib\\site-packages\\sklearn\\pipeline.py:451: DataConversionWarning: Data with input dtype int64, float64 were all converted to float64 by StandardScaler.\n",
      "  Xt = transform.transform(Xt)\n",
      "E:\\Programme\\Anaconda3\\lib\\site-packages\\sklearn\\pipeline.py:451: DataConversionWarning: Data with input dtype int64, float64 were all converted to float64 by StandardScaler.\n",
      "  Xt = transform.transform(Xt)\n",
      "E:\\Programme\\Anaconda3\\lib\\site-packages\\sklearn\\preprocessing\\data.py:617: DataConversionWarning: Data with input dtype int64, float64 were all converted to float64 by StandardScaler.\n",
      "  return self.partial_fit(X, y)\n",
      "E:\\Programme\\Anaconda3\\lib\\site-packages\\sklearn\\base.py:465: DataConversionWarning: Data with input dtype int64, float64 were all converted to float64 by StandardScaler.\n",
      "  return self.fit(X, y, **fit_params).transform(X)\n",
      "E:\\Programme\\Anaconda3\\lib\\site-packages\\sklearn\\pipeline.py:451: DataConversionWarning: Data with input dtype int64, float64 were all converted to float64 by StandardScaler.\n",
      "  Xt = transform.transform(Xt)\n",
      "E:\\Programme\\Anaconda3\\lib\\site-packages\\sklearn\\pipeline.py:451: DataConversionWarning: Data with input dtype int64, float64 were all converted to float64 by StandardScaler.\n",
      "  Xt = transform.transform(Xt)\n",
      "E:\\Programme\\Anaconda3\\lib\\site-packages\\sklearn\\preprocessing\\data.py:617: DataConversionWarning: Data with input dtype int64, float64 were all converted to float64 by StandardScaler.\n",
      "  return self.partial_fit(X, y)\n",
      "E:\\Programme\\Anaconda3\\lib\\site-packages\\sklearn\\base.py:465: DataConversionWarning: Data with input dtype int64, float64 were all converted to float64 by StandardScaler.\n",
      "  return self.fit(X, y, **fit_params).transform(X)\n",
      "E:\\Programme\\Anaconda3\\lib\\site-packages\\sklearn\\pipeline.py:451: DataConversionWarning: Data with input dtype int64, float64 were all converted to float64 by StandardScaler.\n",
      "  Xt = transform.transform(Xt)\n",
      "E:\\Programme\\Anaconda3\\lib\\site-packages\\sklearn\\pipeline.py:451: DataConversionWarning: Data with input dtype int64, float64 were all converted to float64 by StandardScaler.\n",
      "  Xt = transform.transform(Xt)\n",
      "E:\\Programme\\Anaconda3\\lib\\site-packages\\sklearn\\preprocessing\\data.py:617: DataConversionWarning: Data with input dtype int64, float64 were all converted to float64 by StandardScaler.\n",
      "  return self.partial_fit(X, y)\n",
      "E:\\Programme\\Anaconda3\\lib\\site-packages\\sklearn\\base.py:465: DataConversionWarning: Data with input dtype int64, float64 were all converted to float64 by StandardScaler.\n",
      "  return self.fit(X, y, **fit_params).transform(X)\n",
      "E:\\Programme\\Anaconda3\\lib\\site-packages\\sklearn\\pipeline.py:451: DataConversionWarning: Data with input dtype int64, float64 were all converted to float64 by StandardScaler.\n",
      "  Xt = transform.transform(Xt)\n",
      "E:\\Programme\\Anaconda3\\lib\\site-packages\\sklearn\\pipeline.py:451: DataConversionWarning: Data with input dtype int64, float64 were all converted to float64 by StandardScaler.\n",
      "  Xt = transform.transform(Xt)\n",
      "E:\\Programme\\Anaconda3\\lib\\site-packages\\sklearn\\preprocessing\\data.py:617: DataConversionWarning: Data with input dtype int64, float64 were all converted to float64 by StandardScaler.\n",
      "  return self.partial_fit(X, y)\n",
      "E:\\Programme\\Anaconda3\\lib\\site-packages\\sklearn\\base.py:465: DataConversionWarning: Data with input dtype int64, float64 were all converted to float64 by StandardScaler.\n",
      "  return self.fit(X, y, **fit_params).transform(X)\n",
      "E:\\Programme\\Anaconda3\\lib\\site-packages\\sklearn\\pipeline.py:451: DataConversionWarning: Data with input dtype int64, float64 were all converted to float64 by StandardScaler.\n",
      "  Xt = transform.transform(Xt)\n",
      "E:\\Programme\\Anaconda3\\lib\\site-packages\\sklearn\\pipeline.py:451: DataConversionWarning: Data with input dtype int64, float64 were all converted to float64 by StandardScaler.\n",
      "  Xt = transform.transform(Xt)\n",
      "[Parallel(n_jobs=1)]: Done   9 out of   9 | elapsed: 28.6min finished\n",
      "E:\\Programme\\Anaconda3\\lib\\site-packages\\sklearn\\preprocessing\\data.py:617: DataConversionWarning: Data with input dtype int64, float64 were all converted to float64 by StandardScaler.\n",
      "  return self.partial_fit(X, y)\n",
      "E:\\Programme\\Anaconda3\\lib\\site-packages\\sklearn\\base.py:465: DataConversionWarning: Data with input dtype int64, float64 were all converted to float64 by StandardScaler.\n",
      "  return self.fit(X, y, **fit_params).transform(X)\n"
     ]
    },
    {
     "name": "stderr",
     "output_type": "stream",
     "text": [
      "E:\\Programme\\Anaconda3\\lib\\site-packages\\sklearn\\pipeline.py:451: DataConversionWarning: Data with input dtype int64, float64 were all converted to float64 by StandardScaler.\n",
      "  Xt = transform.transform(Xt)\n"
     ]
    }
   ],
   "source": [
    "print(\"Grid search\")\n",
    "print('\\n')\n",
    "\n",
    "params = random_grid\n",
    "scoring = 'neg_mean_absolute_error'\n",
    "clf = GridSearchCV(finalpipeline, params, n_jobs=1, verbose=True, scoring=scoring)\n",
    "clf.fit(x_train, y_train)\n",
    "\n",
    "clf_preds = clf.predict(x_test)\n",
    "clf_preds = pd.Series(clf_preds)\n",
    "clf_preds = clf_preds.rename(\"Grid Search Predicted values\")\n",
    "\n",
    "\n",
    "#best_params = sorted(clf.grid_scores_, key=lambda x: -x[1])\n"
   ]
  },
  {
   "cell_type": "code",
   "execution_count": 51,
   "metadata": {},
   "outputs": [
    {
     "name": "stderr",
     "output_type": "stream",
     "text": [
      "E:\\Programme\\Anaconda3\\lib\\site-packages\\sklearn\\utils\\deprecation.py:125: FutureWarning: You are accessing a training score ('split0_train_score'), which will not be available by default any more in 0.21. If you need training scores, please set return_train_score=True\n",
      "  warnings.warn(*warn_args, **warn_kwargs)\n",
      "E:\\Programme\\Anaconda3\\lib\\site-packages\\sklearn\\utils\\deprecation.py:125: FutureWarning: You are accessing a training score ('split1_train_score'), which will not be available by default any more in 0.21. If you need training scores, please set return_train_score=True\n",
      "  warnings.warn(*warn_args, **warn_kwargs)\n",
      "E:\\Programme\\Anaconda3\\lib\\site-packages\\sklearn\\utils\\deprecation.py:125: FutureWarning: You are accessing a training score ('split2_train_score'), which will not be available by default any more in 0.21. If you need training scores, please set return_train_score=True\n",
      "  warnings.warn(*warn_args, **warn_kwargs)\n",
      "E:\\Programme\\Anaconda3\\lib\\site-packages\\sklearn\\utils\\deprecation.py:125: FutureWarning: You are accessing a training score ('mean_train_score'), which will not be available by default any more in 0.21. If you need training scores, please set return_train_score=True\n",
      "  warnings.warn(*warn_args, **warn_kwargs)\n",
      "E:\\Programme\\Anaconda3\\lib\\site-packages\\sklearn\\utils\\deprecation.py:125: FutureWarning: You are accessing a training score ('std_train_score'), which will not be available by default any more in 0.21. If you need training scores, please set return_train_score=True\n",
      "  warnings.warn(*warn_args, **warn_kwargs)\n"
     ]
    },
    {
     "data": {
      "text/plain": [
       "{'mean_fit_time': array([ 35.31963166, 171.81644058, 334.51834249]),\n",
       " 'std_fit_time': array([0.50078296, 3.00783267, 5.09273325]),\n",
       " 'mean_score_time': array([1.12249525, 3.43706512, 6.22920481]),\n",
       " 'std_score_time': array([0.00780874, 0.11159259, 0.14930977]),\n",
       " 'param_randomforestregressor__n_estimators': masked_array(data=[100, 500, 1000],\n",
       "              mask=[False, False, False],\n",
       "        fill_value='?',\n",
       "             dtype=object),\n",
       " 'params': [{'randomforestregressor__n_estimators': 100},\n",
       "  {'randomforestregressor__n_estimators': 500},\n",
       "  {'randomforestregressor__n_estimators': 1000}],\n",
       " 'split0_test_score': array([-104403.58549401, -100213.13654812,  -99847.65010182]),\n",
       " 'split1_test_score': array([-96506.70429677, -96153.23335501, -96423.75707067]),\n",
       " 'split2_test_score': array([-107286.52865624, -107417.57070403, -107525.09613443]),\n",
       " 'mean_test_score': array([-102732.21485284, -101261.23518393, -101265.42143532]),\n",
       " 'std_test_score': array([4556.76188301, 4657.96957887, 4641.6463764 ]),\n",
       " 'rank_test_score': array([3, 1, 2]),\n",
       " 'split0_train_score': array([-38932.81349084, -37956.3824303 , -37656.68617356]),\n",
       " 'split1_train_score': array([-37851.01982748, -37594.39443012, -37491.12740652]),\n",
       " 'split2_train_score': array([-41962.44337902, -42087.41356124, -42255.2011346 ]),\n",
       " 'mean_train_score': array([-39582.09223244, -39212.73014055, -39134.33823823]),\n",
       " 'std_train_score': array([1740.13851331, 2038.07301226, 2207.81812956])}"
      ]
     },
     "execution_count": 51,
     "metadata": {},
     "output_type": "execute_result"
    }
   ],
   "source": [
    "clf.cv_results_"
   ]
  },
  {
   "cell_type": "code",
   "execution_count": null,
   "metadata": {},
   "outputs": [],
   "source": [
    "sorted(sklearn.metrics.SCORERS.keys())"
   ]
  },
  {
   "cell_type": "code",
   "execution_count": null,
   "metadata": {},
   "outputs": [],
   "source": [
    "from sklearn.impute import SimpleImputer\n",
    "imp = SimpleImputer(missing_values=np.nan, )\n",
    "imp.fit([[1, 2], [np.nan, 3], [7, 6]])       \n",
    "#SimpleImputer(copy=True, fill_value=None, missing_values=nan, strategy='mean', verbose=0)\n",
    "X = [[np.nan, 2], [6, np.nan], [7, 6]]\n",
    "print(imp.transform(X))           "
   ]
  }
 ],
 "metadata": {
  "kernelspec": {
   "display_name": "Python 3",
   "language": "python",
   "name": "python3"
  },
  "language_info": {
   "codemirror_mode": {
    "name": "ipython",
    "version": 3
   },
   "file_extension": ".py",
   "mimetype": "text/x-python",
   "name": "python",
   "nbconvert_exporter": "python",
   "pygments_lexer": "ipython3",
   "version": "3.6.5"
  }
 },
 "nbformat": 4,
 "nbformat_minor": 2
}
