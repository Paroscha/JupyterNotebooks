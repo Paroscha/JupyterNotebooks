{
 "cells": [
  {
   "cell_type": "code",
   "execution_count": 12,
   "metadata": {},
   "outputs": [],
   "source": [
    "import numpy as np\n",
    "import pandas as pd\n",
    "import math"
   ]
  },
  {
   "cell_type": "code",
   "execution_count": 6,
   "metadata": {},
   "outputs": [
    {
     "data": {
      "text/plain": [
       "array([  0,   1,   2,   3,   4,   5,   6,   7,   8,   9,  10,  11,  12,\n",
       "        13,  14,  15,  16,  17,  18,  19,  20,  21,  22,  23,  24,  25,\n",
       "        26,  27,  28,  29,  30,  31,  32,  33,  34,  35,  36,  37,  38,\n",
       "        39,  40,  41,  42,  43,  44,  45,  46,  47,  48,  49,  50,  51,\n",
       "        52,  53,  54,  55,  56,  57,  58,  59,  60,  61,  62,  63,  64,\n",
       "        65,  66,  67,  68,  69,  70,  71,  72,  73,  74,  75,  76,  77,\n",
       "        78,  79,  80,  81,  82,  83,  84,  85,  86,  87,  88,  89,  90,\n",
       "        91,  92,  93,  94,  95,  96,  97,  98,  99, 100])"
      ]
     },
     "execution_count": 6,
     "metadata": {},
     "output_type": "execute_result"
    }
   ],
   "source": [
    "x = np.arange(0,101)\n",
    "x"
   ]
  },
  {
   "cell_type": "code",
   "execution_count": 18,
   "metadata": {},
   "outputs": [
    {
     "data": {
      "text/plain": [
       "array([0.67897595, 0.99554134, 0.98235406, 0.43239246, 0.94447346,\n",
       "       0.38520112, 0.79648808, 0.97720023, 0.60929772, 0.83253533,\n",
       "       0.59733675, 0.88670496, 0.91782872, 0.46342262, 0.17487252,\n",
       "       0.56073795, 0.61243734, 0.95603995, 0.32591691, 0.5748335 ,\n",
       "       0.29076445, 0.72634924, 0.78632401, 0.27415523, 0.50863065,\n",
       "       0.23694237, 0.62457567, 0.38246683, 0.2958273 , 0.92541712,\n",
       "       0.56467772, 0.10475246, 0.75624131, 0.22511441, 0.68150964,\n",
       "       0.37153685, 0.93144463, 0.0913221 , 0.74557938, 0.15821523,\n",
       "       0.1139778 , 0.28810769, 0.62400437, 0.74995863, 0.03441981,\n",
       "       0.59239885, 0.48191035, 0.26481824, 0.02426438, 0.20955914,\n",
       "       0.76766412, 0.02826737, 0.65301646, 0.60082726, 0.46383772,\n",
       "       0.47720546, 0.94180374, 0.63406426, 0.39474021, 0.71291464,\n",
       "       0.52676129, 0.59777288, 0.26240114, 0.61674434, 0.67244827,\n",
       "       0.44617827, 0.96879538, 0.78597886, 0.32340808, 0.64401423,\n",
       "       0.86017832, 0.26039649, 0.39905661, 0.99336612, 0.14365668,\n",
       "       0.62676407, 0.95760393, 0.41470124, 0.91485599, 0.04095496,\n",
       "       0.44383566, 0.52765814, 0.41497513, 0.40122021, 0.11466321,\n",
       "       0.94844025, 0.16963664, 0.41785371, 0.77014552, 0.35806175,\n",
       "       0.25544755, 0.11649148, 0.06988524, 0.00149548, 0.19371741,\n",
       "       0.31168941, 0.64808549, 0.6207601 , 0.25632221, 0.39009956,\n",
       "       0.84884156])"
      ]
     },
     "execution_count": 18,
     "metadata": {},
     "output_type": "execute_result"
    }
   ],
   "source": [
    "y = np.random.rand(len(x))\n",
    "y"
   ]
  },
  {
   "cell_type": "code",
   "execution_count": 23,
   "metadata": {},
   "outputs": [],
   "source": [
    "def var(x,y,c):\n",
    "    y_lower = y[x<=c]\n",
    "    y_greater = y[x>c]\n",
    "    var1 = np.var(y_lower) * len(y_lower)\n",
    "    if math.isnan(var1):\n",
    "        var1 = 0\n",
    "    var2 = np.var(y_greater) * len(y_greater)\n",
    "    if math.isnan(var2):\n",
    "        var2 = 0\n",
    "    return var1 + var2\n",
    "    "
   ]
  },
  {
   "cell_type": "code",
   "execution_count": 29,
   "metadata": {},
   "outputs": [
    {
     "name": "stdout",
     "output_type": "stream",
     "text": [
      "13 6.985187500692704\n"
     ]
    },
    {
     "name": "stderr",
     "output_type": "stream",
     "text": [
      "E:\\Programme\\Anaconda3\\lib\\site-packages\\numpy\\core\\fromnumeric.py:3194: RuntimeWarning: Degrees of freedom <= 0 for slice\n",
      "  **kwargs)\n",
      "E:\\Programme\\Anaconda3\\lib\\site-packages\\numpy\\core\\_methods.py:105: RuntimeWarning: invalid value encountered in true_divide\n",
      "  arrmean, rcount, out=arrmean, casting='unsafe', subok=False)\n",
      "E:\\Programme\\Anaconda3\\lib\\site-packages\\numpy\\core\\_methods.py:127: RuntimeWarning: invalid value encountered in double_scalars\n",
      "  ret = ret.dtype.type(ret / rcount)\n"
     ]
    }
   ],
   "source": [
    "v = []\n",
    "for i in range(-1,102):\n",
    "    v.append(var(x,y,i))\n",
    "    \n",
    "print(np.argmin(v),np.min(v))"
   ]
  },
  {
   "cell_type": "code",
   "execution_count": 30,
   "metadata": {},
   "outputs": [
    {
     "data": {
      "text/plain": [
       "268435456"
      ]
     },
     "execution_count": 30,
     "metadata": {},
     "output_type": "execute_result"
    }
   ],
   "source": [
    "2**28"
   ]
  }
 ],
 "metadata": {
  "kernelspec": {
   "display_name": "Python 3",
   "language": "python",
   "name": "python3"
  },
  "language_info": {
   "codemirror_mode": {
    "name": "ipython",
    "version": 3
   },
   "file_extension": ".py",
   "mimetype": "text/x-python",
   "name": "python",
   "nbconvert_exporter": "python",
   "pygments_lexer": "ipython3",
   "version": "3.6.5"
  }
 },
 "nbformat": 4,
 "nbformat_minor": 2
}
