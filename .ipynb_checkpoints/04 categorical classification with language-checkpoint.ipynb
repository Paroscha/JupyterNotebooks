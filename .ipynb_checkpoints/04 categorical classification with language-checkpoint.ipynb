{
 "cells": [
  {
   "cell_type": "code",
   "execution_count": 27,
   "metadata": {},
   "outputs": [],
   "source": [
    "from keras.datasets import reuters\n",
    "\n",
    "(train_data, train_labels), (test_data, test_labels) = reuters.load_data(num_words=10000)"
   ]
  },
  {
   "cell_type": "code",
   "execution_count": 28,
   "metadata": {},
   "outputs": [
    {
     "name": "stdout",
     "output_type": "stream",
     "text": [
      "(8982,)\n",
      "(2246,)\n",
      "(8982,)\n",
      "(2246,)\n"
     ]
    }
   ],
   "source": [
    "print(train_data.shape)\n",
    "print(test_data.shape)\n",
    "print(train_labels.shape)\n",
    "print(test_labels.shape)"
   ]
  },
  {
   "cell_type": "code",
   "execution_count": 29,
   "metadata": {},
   "outputs": [
    {
     "name": "stdout",
     "output_type": "stream",
     "text": [
      "TrainData Length: 8982\n",
      "TrainData Min: 13\n",
      "TrainData Max: 2376\n",
      "TrainData Mean: 145.5398574927633\n",
      "TrainData StD: 145.81413013409278\n",
      "TrainLabels: [ 3  4  3 ... 25  3 25]\n",
      "TrainLabels Min: 0\n"
     ]
    }
   ],
   "source": [
    "import numpy as np\n",
    "\n",
    "lengths = [len(x) for x in train_data]\n",
    "print(\"TrainData Length:\",len(lengths))\n",
    "print(\"TrainData Min:\",min(lengths))\n",
    "print(\"TrainData Max:\",max(lengths))\n",
    "print(\"TrainData Mean:\",np.mean(lengths))\n",
    "print(\"TrainData StD:\",np.std(lengths))\n",
    "\n",
    "print(\"TrainLabels:\",train_labels)\n",
    "print(\"TrainLabels Min:\",train_labels.min(0))"
   ]
  },
  {
   "cell_type": "code",
   "execution_count": 30,
   "metadata": {},
   "outputs": [],
   "source": [
    "word_index = reuters.get_word_index()"
   ]
  },
  {
   "cell_type": "code",
   "execution_count": 31,
   "metadata": {},
   "outputs": [
    {
     "name": "stdout",
     "output_type": "stream",
     "text": [
      "<class 'dict'>\n",
      "30979\n"
     ]
    }
   ],
   "source": [
    "print(type(word_index))\n",
    "print(len(word_index))\n",
    "#print(word_index)"
   ]
  },
  {
   "cell_type": "code",
   "execution_count": 32,
   "metadata": {},
   "outputs": [
    {
     "name": "stdout",
     "output_type": "stream",
     "text": [
      "4\n",
      "? seton co said its board has received a proposal from chairman and chief executive officer philip d ? to acquire seton for 15 75 dlrs per share in cash seton said the acquisition bid is subject to ? arranging the necessary financing it said he intends to ask other members of senior management to participate the company said ? owns 30 pct of seton stock and other management members another 7 5 pct seton said it has formed an independent board committee to consider the offer and has deferred the annual meeting it had scheduled for march 31 reuter 3\n"
     ]
    }
   ],
   "source": [
    "reverse_word_index = dict(\n",
    "    [(value,key) for (key, value) in word_index.items()]\n",
    ")\n",
    "\n",
    "idx = 4\n",
    "label = train_labels[idx]\n",
    "review = train_data[idx]\n",
    "decoded_review = \" \".join(\n",
    "    [reverse_word_index.get(index - 3, \"?\") for index in review]\n",
    ")\n",
    "print(label)\n",
    "print(decoded_review)"
   ]
  },
  {
   "cell_type": "code",
   "execution_count": 33,
   "metadata": {},
   "outputs": [
    {
     "name": "stdout",
     "output_type": "stream",
     "text": [
      "Before: 4\n",
      "After: [0. 0. 0. 0. 1. 0. 0. 0. 0. 0. 0. 0. 0. 0. 0. 0. 0. 0. 0. 0. 0. 0. 0. 0.\n",
      " 0. 0. 0. 0. 0. 0. 0. 0. 0. 0. 0. 0. 0. 0. 0. 0. 0. 0. 0. 0. 0. 0.]\n"
     ]
    }
   ],
   "source": [
    "from keras.utils import to_categorical\n",
    "\n",
    "print(\"Before:\",train_labels[1])\n",
    "train_labels = to_categorical(train_labels)\n",
    "test_labes = to_categorical(test_labels)\n",
    "print(\"After:\",train_labels[1])"
   ]
  },
  {
   "cell_type": "code",
   "execution_count": 34,
   "metadata": {},
   "outputs": [
    {
     "name": "stdout",
     "output_type": "stream",
     "text": [
      "[0. 1. 1. ... 0. 0. 0.]\n"
     ]
    }
   ],
   "source": [
    "def vectorize_sequences(sequences, dimension=10000):\n",
    "    results = np.zeros([len(sequences),dimension]) #matrix with only 0s, each row is a sequence\n",
    "    for i, sequence in enumerate(sequences):\n",
    "        results[i, sequence] = 1.0; #fancy indexing\n",
    "    return results\n",
    "\n",
    "x_train = vectorize_sequences(train_data)\n",
    "x_test = vectorize_sequences(test_data)\n",
    "print(x_train[0])"
   ]
  },
  {
   "cell_type": "code",
   "execution_count": 35,
   "metadata": {},
   "outputs": [
    {
     "name": "stdout",
     "output_type": "stream",
     "text": [
      "_________________________________________________________________\n",
      "Layer (type)                 Output Shape              Param #   \n",
      "=================================================================\n",
      "dense_6 (Dense)              (None, 1000)              10001000  \n",
      "_________________________________________________________________\n",
      "dense_7 (Dense)              (None, 138)               138138    \n",
      "_________________________________________________________________\n",
      "dense_8 (Dense)              (None, 46)                6394      \n",
      "=================================================================\n",
      "Total params: 10,145,532\n",
      "Trainable params: 10,145,532\n",
      "Non-trainable params: 0\n",
      "_________________________________________________________________\n"
     ]
    }
   ],
   "source": [
    "from keras import models, layers\n",
    "\n",
    "model = models.Sequential()\n",
    "model.add(layers.Dense(\n",
    "    1000, \n",
    "    activation=\"relu\",\n",
    "    input_shape=(10000,)))\n",
    "#model.add(layers.Dense(138,activation=\"relu\"))\n",
    "model.add(layers.Dense(46, activation=\"softmax\"))\n",
    "\n",
    "\n",
    "model.summary()"
   ]
  },
  {
   "cell_type": "code",
   "execution_count": 36,
   "metadata": {},
   "outputs": [],
   "source": [
    "model.compile(\n",
    "    optimizer=\"rmsprop\", #always a good start\n",
    "    loss=\"categorical_crossentropy\",\n",
    "    metrics=[\"accuracy\"]\n",
    ")"
   ]
  },
  {
   "cell_type": "code",
   "execution_count": 37,
   "metadata": {},
   "outputs": [
    {
     "name": "stdout",
     "output_type": "stream",
     "text": [
      "[[0. 0. 0. ... 0. 0. 0.]\n",
      " [0. 0. 0. ... 0. 0. 0.]\n",
      " [0. 0. 0. ... 0. 0. 0.]\n",
      " ...\n",
      " [0. 0. 0. ... 0. 0. 0.]\n",
      " [0. 0. 0. ... 0. 0. 0.]\n",
      " [0. 0. 0. ... 0. 0. 0.]]\n",
      "(1500, 10000)\n",
      "(1500, 46)\n",
      "(7482, 10000)\n",
      "(7482, 46)\n"
     ]
    }
   ],
   "source": [
    "#split you training data into a validation set (10k) and an actual training set (15k)\n",
    "anz = 1500\n",
    "\n",
    "x_val = x_train[:anz]\n",
    "partial_x_train = x_train[anz:]\n",
    "\n",
    "\n",
    "print(train_labels)\n",
    "\n",
    "y_val = train_labels[:anz]\n",
    "partial_y_train = train_labels[anz:]\n",
    "print(x_val.shape)\n",
    "print(y_val.shape)\n",
    "\n",
    "print(partial_x_train.shape)\n",
    "print(partial_y_train.shape)"
   ]
  },
  {
   "cell_type": "code",
   "execution_count": 38,
   "metadata": {},
   "outputs": [
    {
     "name": "stdout",
     "output_type": "stream",
     "text": [
      "Train on 7482 samples, validate on 1500 samples\n",
      "Epoch 1/20\n",
      "7482/7482 [==============================] - 3s 395us/step - loss: 1.8371 - acc: 0.5807 - val_loss: 1.1798 - val_acc: 0.7380\n",
      "Epoch 2/20\n",
      "7482/7482 [==============================] - 2s 320us/step - loss: 0.7845 - acc: 0.8213 - val_loss: 0.9610 - val_acc: 0.7967\n",
      "Epoch 3/20\n",
      "7482/7482 [==============================] - 2s 319us/step - loss: 0.4314 - acc: 0.9039 - val_loss: 0.9603 - val_acc: 0.7893\n",
      "Epoch 4/20\n",
      "7482/7482 [==============================] - 2s 321us/step - loss: 0.3101 - acc: 0.9285 - val_loss: 0.8965 - val_acc: 0.8173\n",
      "Epoch 5/20\n",
      "7482/7482 [==============================] - 2s 319us/step - loss: 0.1917 - acc: 0.9507 - val_loss: 0.9558 - val_acc: 0.8047\n",
      "Epoch 6/20\n",
      "7482/7482 [==============================] - 2s 318us/step - loss: 0.1662 - acc: 0.9542 - val_loss: 1.0648 - val_acc: 0.7827\n",
      "Epoch 7/20\n",
      "7482/7482 [==============================] - 2s 319us/step - loss: 0.1513 - acc: 0.9559 - val_loss: 1.0565 - val_acc: 0.7920\n",
      "Epoch 8/20\n",
      "7482/7482 [==============================] - 2s 321us/step - loss: 0.1311 - acc: 0.9572 - val_loss: 1.0458 - val_acc: 0.7933\n",
      "Epoch 9/20\n",
      "7482/7482 [==============================] - 2s 320us/step - loss: 0.1236 - acc: 0.9563 - val_loss: 1.1390 - val_acc: 0.7907\n",
      "Epoch 10/20\n",
      "7482/7482 [==============================] - 2s 320us/step - loss: 0.1157 - acc: 0.9555 - val_loss: 1.0461 - val_acc: 0.8053\n",
      "Epoch 11/20\n",
      "7482/7482 [==============================] - 2s 319us/step - loss: 0.1062 - acc: 0.9583 - val_loss: 1.0913 - val_acc: 0.7967\n",
      "Epoch 12/20\n",
      "7482/7482 [==============================] - 2s 318us/step - loss: 0.1021 - acc: 0.9574 - val_loss: 1.1551 - val_acc: 0.7833\n",
      "Epoch 13/20\n",
      "7482/7482 [==============================] - 2s 332us/step - loss: 0.0985 - acc: 0.9555 - val_loss: 1.2298 - val_acc: 0.7867\n",
      "Epoch 14/20\n",
      "7482/7482 [==============================] - 2s 319us/step - loss: 0.0930 - acc: 0.9584 - val_loss: 1.1903 - val_acc: 0.7927\n",
      "Epoch 15/20\n",
      "7482/7482 [==============================] - 2s 320us/step - loss: 0.0883 - acc: 0.9566 - val_loss: 1.2343 - val_acc: 0.7867\n",
      "Epoch 16/20\n",
      "7482/7482 [==============================] - 2s 321us/step - loss: 0.0851 - acc: 0.9571 - val_loss: 1.2194 - val_acc: 0.7927\n",
      "Epoch 17/20\n",
      "7482/7482 [==============================] - 2s 319us/step - loss: 0.0826 - acc: 0.9579 - val_loss: 1.2648 - val_acc: 0.7920\n",
      "Epoch 18/20\n",
      "7482/7482 [==============================] - 2s 325us/step - loss: 0.0781 - acc: 0.9594 - val_loss: 1.3123 - val_acc: 0.7893\n",
      "Epoch 19/20\n",
      "7482/7482 [==============================] - 2s 324us/step - loss: 0.0784 - acc: 0.9560 - val_loss: 1.2958 - val_acc: 0.7953\n",
      "Epoch 20/20\n",
      "7482/7482 [==============================] - 2s 332us/step - loss: 0.0757 - acc: 0.9578 - val_loss: 1.3929 - val_acc: 0.7827\n"
     ]
    }
   ],
   "source": [
    "history = model.fit(\n",
    "    partial_x_train, partial_y_train,\n",
    "    epochs=20,\n",
    "    batch_size=512,\n",
    "    validation_data=(x_val, y_val)\n",
    ")"
   ]
  },
  {
   "cell_type": "code",
   "execution_count": 39,
   "metadata": {},
   "outputs": [
    {
     "name": "stdout",
     "output_type": "stream",
     "text": [
      "available keys: dict_keys(['val_loss', 'val_acc', 'loss', 'acc'])\n"
     ]
    },
    {
     "data": {
      "image/png": "[encoded data removed]",
      "text/plain": [
       "<Figure size 432x288 with 1 Axes>"
      ]
     },
     "metadata": {
      "needs_background": "light"
     },
     "output_type": "display_data"
    },
    {
     "data": {
      "image/png": "[encoded data removed]",
      "text/plain": [
       "<Figure size 432x288 with 1 Axes>"
      ]
     },
     "metadata": {
      "needs_background": "light"
     },
     "output_type": "display_data"
    }
   ],
   "source": [
    "import matplotlib.pyplot as plt\n",
    "\n",
    "print(\"available keys:\",history.history.keys())\n",
    "#r = range(1, len(history.history[\"binary_accuracy\"]) + 1)\n",
    "\n",
    "plt.plot(history.history[\"loss\"], label=\"loss\")\n",
    "plt.plot(history.history[\"val_acc\"], label=\"val_acc\")\n",
    "plt.legend()\n",
    "plt.show()\n",
    "plt.close()\n",
    "\n",
    "plt.plot(history.history[\"acc\"], label=\"acc\")\n",
    "plt.plot(history.history[\"val_loss\"], label=\"val_loss\")\n",
    "plt.legend()\n",
    "plt.show()\n",
    "plt.close()"
   ]
  }
 ],
 "metadata": {
  "kernelspec": {
   "display_name": "Python 3",
   "language": "python",
   "name": "python3"
  },
  "language_info": {
   "codemirror_mode": {
    "name": "ipython",
    "version": 3
   },
   "file_extension": ".py",
   "mimetype": "text/x-python",
   "name": "python",
   "nbconvert_exporter": "python",
   "pygments_lexer": "ipython3",
   "version": "3.6.6"
  }
 },
 "nbformat": 4,
 "nbformat_minor": 2
}
