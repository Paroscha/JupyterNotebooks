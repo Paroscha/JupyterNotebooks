{
 "cells": [
  {
   "cell_type": "code",
   "execution_count": 1,
   "metadata": {},
   "outputs": [],
   "source": [
    "%matplotlib inline"
   ]
  },
  {
   "cell_type": "markdown",
   "metadata": {},
   "source": [
    "\n",
    "Brent's method\n",
    "================\n",
    "\n",
    "Illustration of 1D optimization: Brent's method\n",
    "\n"
   ]
  },
  {
   "cell_type": "code",
   "execution_count": 2,
   "metadata": {},
   "outputs": [
    {
     "name": "stdout",
     "output_type": "stream",
     "text": [
      "Converged at  6\n",
      "Converged at  23\n"
     ]
    },
    {
     "data": {
      "image/png": "[encoded data removed]",
      "text/plain": [
       "<Figure size 216x180 with 1 Axes>"
      ]
     },
     "metadata": {
      "needs_background": "light"
     },
     "output_type": "display_data"
    },
    {
     "data": {
      "image/png": "[encoded data removed]",
      "text/plain": [
       "<Figure size 288x216 with 1 Axes>"
      ]
     },
     "metadata": {
      "needs_background": "light"
     },
     "output_type": "display_data"
    },
    {
     "data": {
      "image/png": "[encoded data removed]",
      "text/plain": [
       "<Figure size 216x180 with 1 Axes>"
      ]
     },
     "metadata": {
      "needs_background": "light"
     },
     "output_type": "display_data"
    },
    {
     "data": {
      "image/png": "[encoded data removed]",
      "text/plain": [
       "<Figure size 288x216 with 1 Axes>"
      ]
     },
     "metadata": {
      "needs_background": "light"
     },
     "output_type": "display_data"
    }
   ],
   "source": [
    "import numpy as np\n",
    "import pylab as pl\n",
    "from scipy import optimize\n",
    "\n",
    "x = np.linspace(-1, 3, 100)\n",
    "x_0 = np.exp(-1)\n",
    "\n",
    "def f(x):\n",
    "    return (x - x_0)**2 + epsilon*np.exp(-5*(x - .5 - x_0)**2)\n",
    "\n",
    "for epsilon in (0, 1):\n",
    "    pl.figure(figsize=(3, 2.5))\n",
    "    pl.axes([0, 0, 1, 1])\n",
    "\n",
    "    # A convex function\n",
    "    pl.plot(x, f(x), linewidth=2)\n",
    "\n",
    "    # Apply brent method. To have access to the iteration, do this in an\n",
    "    # artificial way: allow the algorithm to iter only once\n",
    "    all_x = list()\n",
    "    all_y = list()\n",
    "    for iter in range(30):\n",
    "        result = optimize.minimize_scalar(f, bracket=(-5, 2.9, 4.5), method=\"Brent\",\n",
    "                    options={\"maxiter\": iter}, tol=np.finfo(1.).eps)\n",
    "        if result.success:\n",
    "            print('Converged at ', iter)\n",
    "            break\n",
    "\n",
    "        this_x = result.x\n",
    "        all_x.append(this_x)\n",
    "        all_y.append(f(this_x))\n",
    "        if iter < 6:\n",
    "            pl.text(this_x - .05*np.sign(this_x) - .05,\n",
    "                    f(this_x) + 1.2*(.3 - iter % 2), iter + 1,\n",
    "                    size=12)\n",
    "\n",
    "    pl.plot(all_x[:10], all_y[:10], 'k+', markersize=12, markeredgewidth=2)\n",
    "\n",
    "    pl.plot(all_x[-1], all_y[-1], 'rx', markersize=12)\n",
    "    pl.axis('off')\n",
    "    pl.ylim(ymin=-1, ymax=8)\n",
    "\n",
    "    pl.figure(figsize=(4, 3))\n",
    "    pl.semilogy(np.abs(all_y - all_y[-1]), linewidth=2)\n",
    "    pl.ylabel('Error on f(x)')\n",
    "    pl.xlabel('Iteration')\n",
    "    pl.tight_layout()\n",
    "\n",
    "pl.show()"
   ]
  },
  {
   "cell_type": "code",
   "execution_count": 4,
   "metadata": {},
   "outputs": [
    {
     "name": "stdout",
     "output_type": "stream",
     "text": [
      "[0.1584780355602638, 1.315997586544325, 2.6654650374856304, 6.928058636342427, 13.192299753865074, 21.456540871522186, 31.7207819891793, 43.985023106836415, 58.24926422449353, 74.51350534215064]\n"
     ]
    }
   ],
   "source": [
    "print([f(x) for x in range(0,10)])"
   ]
  },
  {
   "cell_type": "code",
   "execution_count": 16,
   "metadata": {},
   "outputs": [
    {
     "name": "stderr",
     "output_type": "stream",
     "text": [
      "C:\\ProgramData\\Anaconda3\\envs\\DataScienceRetreat\\lib\\site-packages\\scipy\\optimize\\_minimize.py:763: RuntimeWarning: Method 'bounded' does not support relative tolerance in x; defaulting to absolute tolerance.\n",
      "  \"defaulting to absolute tolerance.\", RuntimeWarning)\n"
     ]
    }
   ],
   "source": [
    "OptimizeResult_Brent = optimize.minimize_scalar(f, bracket=(-5, 2.9, 4.5), method=\"Brent\",\n",
    "                    options={\"maxiter\": iter}, tol=np.finfo(1.).eps)\n",
    "\n",
    "OptimizeResult_Golden = optimize.minimize_scalar(f, bracket=(-5, 2.9, 4.5), method=\"Golden\",\n",
    "                    options={\"maxiter\": iter}, tol=np.finfo(1.).eps)\n",
    "\n",
    "OptimizeResult_Bounded = optimize.minimize_scalar(f, method=\"Bounded\", bounds=(-10,10),\n",
    "                    options={\"maxiter\": iter}, tol=np.finfo(1.).eps)"
   ]
  },
  {
   "cell_type": "code",
   "execution_count": 17,
   "metadata": {},
   "outputs": [
    {
     "data": {
      "text/plain": [
       "     fun: 0.12229946413411434\n",
       "    nfev: 26\n",
       "     nit: 22\n",
       " success: True\n",
       "       x: 0.1281291282798001"
      ]
     },
     "execution_count": 17,
     "metadata": {},
     "output_type": "execute_result"
    }
   ],
   "source": [
    "OptimizeResult_Brent"
   ]
  },
  {
   "cell_type": "code",
   "execution_count": 18,
   "metadata": {},
   "outputs": [
    {
     "data": {
      "text/plain": [
       "     fun: 0.12229946422632042\n",
       "    nfev: 28\n",
       "     nit: 23\n",
       " success: False\n",
       "       x: 0.12813526557799354"
      ]
     },
     "execution_count": 18,
     "metadata": {},
     "output_type": "execute_result"
    }
   ],
   "source": [
    "OptimizeResult_Golden"
   ]
  },
  {
   "cell_type": "code",
   "execution_count": 19,
   "metadata": {},
   "outputs": [
    {
     "data": {
      "text/plain": [
       "     fun: 0.12229946413411433\n",
       " message: 'Solution found.'\n",
       "    nfev: 16\n",
       "  status: 0\n",
       " success: True\n",
       "       x: 0.12812913005806098"
      ]
     },
     "execution_count": 19,
     "metadata": {},
     "output_type": "execute_result"
    }
   ],
   "source": [
    "OptimizeResult_Bounded"
   ]
  }
 ],
 "metadata": {
  "kernelspec": {
   "display_name": "Python 3",
   "language": "python",
   "name": "python3"
  },
  "language_info": {
   "codemirror_mode": {
    "name": "ipython",
    "version": 3
   },
   "file_extension": ".py",
   "mimetype": "text/x-python",
   "name": "python",
   "nbconvert_exporter": "python",
   "pygments_lexer": "ipython3",
   "version": "3.6.6"
  }
 },
 "nbformat": 4,
 "nbformat_minor": 1
}
