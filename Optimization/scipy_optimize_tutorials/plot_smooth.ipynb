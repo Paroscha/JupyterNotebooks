{
  "cells": [
    {
      "cell_type": "code",
      "execution_count": null,
      "metadata": {
        "collapsed": false
      },
      "outputs": [],
      "source": [
        "%matplotlib inline"
      ]
    },
    {
      "cell_type": "markdown",
      "metadata": {},
      "source": [
        "\nSmooth vs non-smooth\n=====================\n\nDraws a figure to explain smooth versus non smooth optimization.\n\n"
      ]
    },
    {
      "cell_type": "code",
      "execution_count": null,
      "metadata": {
        "collapsed": false
      },
      "outputs": [],
      "source": [
        "import numpy as np\nimport pylab as pl\n\nx = np.linspace(-1.5, 1.5, 101)\n\n# A smooth function\npl.figure(1, figsize=(3, 2.5))\npl.clf()\n\npl.plot(x, np.sqrt(.2 + x**2), linewidth=2)\npl.text(-1, 0, '$f$', size=20)\n\npl.ylim(ymin=-.2)\npl.axis('off')\npl.tight_layout()\n\n# A non-smooth function\npl.figure(2, figsize=(3, 2.5))\npl.clf()\npl.plot(x, np.abs(x), linewidth=2)\npl.text(-1, 0, '$f$', size=20)\n\npl.ylim(ymin=-.2)\npl.axis('off')\npl.tight_layout()\npl.show()"
      ]
    }
  ],
  "metadata": {
    "kernelspec": {
      "display_name": "Python 3",
      "language": "python",
      "name": "python3"
    },
    "language_info": {
      "codemirror_mode": {
        "name": "ipython",
        "version": 3
      },
      "file_extension": ".py",
      "mimetype": "text/x-python",
      "name": "python",
      "nbconvert_exporter": "python",
      "pygments_lexer": "ipython3",
      "version": "3.6.6"
    }
  },
  "nbformat": 4,
  "nbformat_minor": 0
}