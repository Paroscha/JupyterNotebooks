{
  "cells": [
    {
      "cell_type": "code",
      "execution_count": null,
      "metadata": {
        "collapsed": false
      },
      "outputs": [],
      "source": [
        "%matplotlib inline"
      ]
    },
    {
      "cell_type": "markdown",
      "metadata": {},
      "source": [
        "\nCurve fitting\n=============\n\nA curve fitting example\n\n"
      ]
    },
    {
      "cell_type": "code",
      "execution_count": null,
      "metadata": {
        "collapsed": false
      },
      "outputs": [],
      "source": [
        "import numpy as np\nfrom scipy import optimize\nimport pylab as pl\n\nnp.random.seed(0)\n\n# Our test function\ndef f(t, omega, phi):\n    return np.cos(omega * t + phi)\n\n# Our x and y data\nx = np.linspace(0, 3, 50)\ny = f(x, 1.5, 1) + .1*np.random.normal(size=50)\n\n# Fit the model: the parameters omega and phi can be found in the\n# `params` vector\nparams, params_cov = optimize.curve_fit(f, x, y)\n\n# plot the data and the fitted curve\nt = np.linspace(0, 3, 1000)\n\npl.figure(1)\npl.clf()\npl.plot(x, y, 'bx')\npl.plot(t, f(t, *params), 'r-')\npl.show()"
      ]
    }
  ],
  "metadata": {
    "kernelspec": {
      "display_name": "Python 3",
      "language": "python",
      "name": "python3"
    },
    "language_info": {
      "codemirror_mode": {
        "name": "ipython",
        "version": 3
      },
      "file_extension": ".py",
      "mimetype": "text/x-python",
      "name": "python",
      "nbconvert_exporter": "python",
      "pygments_lexer": "ipython3",
      "version": "3.6.6"
    }
  },
  "nbformat": 4,
  "nbformat_minor": 0
}