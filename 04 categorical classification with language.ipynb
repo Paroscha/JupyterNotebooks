{
 "cells": [
  {
   "cell_type": "code",
   "execution_count": 40,
   "metadata": {},
   "outputs": [],
   "source": [
    "from keras.datasets import reuters\n",
    "\n",
    "(train_data, train_labels), (test_data, test_labels) = reuters.load_data(num_words=10000)"
   ]
  },
  {
   "cell_type": "code",
   "execution_count": 41,
   "metadata": {},
   "outputs": [
    {
     "name": "stdout",
     "output_type": "stream",
     "text": [
      "(8982,)\n",
      "(2246,)\n",
      "(8982,)\n",
      "(2246,)\n"
     ]
    }
   ],
   "source": [
    "print(train_data.shape)\n",
    "print(test_data.shape)\n",
    "print(train_labels.shape)\n",
    "print(test_labels.shape)"
   ]
  },
  {
   "cell_type": "code",
   "execution_count": 42,
   "metadata": {},
   "outputs": [
    {
     "name": "stdout",
     "output_type": "stream",
     "text": [
      "TrainData Length: 8982\n",
      "TrainData Min: 13\n",
      "TrainData Max: 2376\n",
      "TrainData Mean: 145.5398574927633\n",
      "TrainData StD: 145.81413013409278\n",
      "TrainLabels: [ 3  4  3 ... 25  3 25]\n",
      "TrainLabels Min: 0\n"
     ]
    }
   ],
   "source": [
    "import numpy as np\n",
    "\n",
    "lengths = [len(x) for x in train_data]\n",
    "print(\"TrainData Length:\",len(lengths))\n",
    "print(\"TrainData Min:\",min(lengths))\n",
    "print(\"TrainData Max:\",max(lengths))\n",
    "print(\"TrainData Mean:\",np.mean(lengths))\n",
    "print(\"TrainData StD:\",np.std(lengths))\n",
    "\n",
    "print(\"TrainLabels:\",train_labels)\n",
    "print(\"TrainLabels Min:\",train_labels.min(0))"
   ]
  },
  {
   "cell_type": "code",
   "execution_count": 43,
   "metadata": {},
   "outputs": [],
   "source": [
    "word_index = reuters.get_word_index()"
   ]
  },
  {
   "cell_type": "code",
   "execution_count": 44,
   "metadata": {},
   "outputs": [
    {
     "name": "stdout",
     "output_type": "stream",
     "text": [
      "<class 'dict'>\n",
      "30979\n"
     ]
    }
   ],
   "source": [
    "print(type(word_index))\n",
    "print(len(word_index))\n",
    "#print(word_index)"
   ]
  },
  {
   "cell_type": "code",
   "execution_count": 45,
   "metadata": {},
   "outputs": [
    {
     "name": "stdout",
     "output_type": "stream",
     "text": [
      "4\n",
      "? seton co said its board has received a proposal from chairman and chief executive officer philip d ? to acquire seton for 15 75 dlrs per share in cash seton said the acquisition bid is subject to ? arranging the necessary financing it said he intends to ask other members of senior management to participate the company said ? owns 30 pct of seton stock and other management members another 7 5 pct seton said it has formed an independent board committee to consider the offer and has deferred the annual meeting it had scheduled for march 31 reuter 3\n"
     ]
    }
   ],
   "source": [
    "reverse_word_index = dict(\n",
    "    [(value,key) for (key, value) in word_index.items()]\n",
    ")\n",
    "\n",
    "idx = 4\n",
    "label = train_labels[idx]\n",
    "review = train_data[idx]\n",
    "decoded_review = \" \".join(\n",
    "    [reverse_word_index.get(index - 3, \"?\") for index in review]\n",
    ")\n",
    "print(label)\n",
    "print(decoded_review)"
   ]
  },
  {
   "cell_type": "code",
   "execution_count": 46,
   "metadata": {},
   "outputs": [
    {
     "name": "stdout",
     "output_type": "stream",
     "text": [
      "Before: 4\n",
      "After: [0. 0. 0. 0. 1. 0. 0. 0. 0. 0. 0. 0. 0. 0. 0. 0. 0. 0. 0. 0. 0. 0. 0. 0.\n",
      " 0. 0. 0. 0. 0. 0. 0. 0. 0. 0. 0. 0. 0. 0. 0. 0. 0. 0. 0. 0. 0. 0.]\n"
     ]
    }
   ],
   "source": [
    "from keras.utils import to_categorical\n",
    "\n",
    "print(\"Before:\",train_labels[1])\n",
    "train_labels = to_categorical(train_labels)\n",
    "test_labes = to_categorical(test_labels)\n",
    "print(\"After:\",train_labels[1])"
   ]
  },
  {
   "cell_type": "code",
   "execution_count": 47,
   "metadata": {},
   "outputs": [
    {
     "name": "stdout",
     "output_type": "stream",
     "text": [
      "[0. 1. 1. ... 0. 0. 0.]\n"
     ]
    }
   ],
   "source": [
    "def vectorize_sequences(sequences, dimension=10000):\n",
    "    results = np.zeros([len(sequences),dimension]) #matrix with only 0s, each row is a sequence\n",
    "    for i, sequence in enumerate(sequences):\n",
    "        results[i, sequence] = 1.0; #fancy indexing\n",
    "    return results\n",
    "\n",
    "x_train = vectorize_sequences(train_data)\n",
    "x_test = vectorize_sequences(test_data)\n",
    "print(x_train[0])"
   ]
  },
  {
   "cell_type": "code",
   "execution_count": 48,
   "metadata": {},
   "outputs": [
    {
     "name": "stdout",
     "output_type": "stream",
     "text": [
      "_________________________________________________________________\n",
      "Layer (type)                 Output Shape              Param #   \n",
      "=================================================================\n",
      "dense_9 (Dense)              (None, 1000)              10001000  \n",
      "_________________________________________________________________\n",
      "dense_10 (Dense)             (None, 46)                46046     \n",
      "=================================================================\n",
      "Total params: 10,047,046\n",
      "Trainable params: 10,047,046\n",
      "Non-trainable params: 0\n",
      "_________________________________________________________________\n"
     ]
    }
   ],
   "source": [
    "from keras import models, layers\n",
    "\n",
    "model = models.Sequential()\n",
    "model.add(layers.Dense(\n",
    "    1000, \n",
    "    activation=\"relu\",\n",
    "    input_shape=(10000,)))\n",
    "#model.add(layers.Dense(138,activation=\"relu\"))\n",
    "model.add(layers.Dense(46, activation=\"softmax\"))\n",
    "\n",
    "\n",
    "model.summary()"
   ]
  },
  {
   "cell_type": "code",
   "execution_count": 49,
   "metadata": {},
   "outputs": [],
   "source": [
    "model.compile(\n",
    "    optimizer=\"rmsprop\", #always a good start\n",
    "    loss=\"categorical_crossentropy\",\n",
    "    metrics=[\"accuracy\"]\n",
    ")"
   ]
  },
  {
   "cell_type": "code",
   "execution_count": 50,
   "metadata": {},
   "outputs": [
    {
     "name": "stdout",
     "output_type": "stream",
     "text": [
      "[[0. 0. 0. ... 0. 0. 0.]\n",
      " [0. 0. 0. ... 0. 0. 0.]\n",
      " [0. 0. 0. ... 0. 0. 0.]\n",
      " ...\n",
      " [0. 0. 0. ... 0. 0. 0.]\n",
      " [0. 0. 0. ... 0. 0. 0.]\n",
      " [0. 0. 0. ... 0. 0. 0.]]\n",
      "(1500, 10000)\n",
      "(1500, 46)\n",
      "(7482, 10000)\n",
      "(7482, 46)\n"
     ]
    }
   ],
   "source": [
    "#split you training data into a validation set (10k) and an actual training set (15k)\n",
    "anz = 1500\n",
    "\n",
    "x_val = x_train[:anz]\n",
    "partial_x_train = x_train[anz:]\n",
    "\n",
    "\n",
    "print(train_labels)\n",
    "\n",
    "y_val = train_labels[:anz]\n",
    "partial_y_train = train_labels[anz:]\n",
    "print(x_val.shape)\n",
    "print(y_val.shape)\n",
    "\n",
    "print(partial_x_train.shape)\n",
    "print(partial_y_train.shape)"
   ]
  },
  {
   "cell_type": "code",
   "execution_count": 51,
   "metadata": {},
   "outputs": [
    {
     "name": "stdout",
     "output_type": "stream",
     "text": [
      "Train on 7482 samples, validate on 1500 samples\n",
      "Epoch 1/20\n",
      "7482/7482 [==============================] - 3s 387us/step - loss: 1.6302 - acc: 0.6476 - val_loss: 1.0767 - val_acc: 0.7593\n",
      "Epoch 2/20\n",
      "7482/7482 [==============================] - 2s 315us/step - loss: 0.5999 - acc: 0.8742 - val_loss: 0.9124 - val_acc: 0.8067\n",
      "Epoch 3/20\n",
      "7482/7482 [==============================] - 2s 318us/step - loss: 0.3496 - acc: 0.9270 - val_loss: 0.9074 - val_acc: 0.8127\n",
      "Epoch 4/20\n",
      "7482/7482 [==============================] - 2s 317us/step - loss: 0.2408 - acc: 0.9453 - val_loss: 0.9083 - val_acc: 0.8093\n",
      "Epoch 5/20\n",
      "7482/7482 [==============================] - 2s 320us/step - loss: 0.1958 - acc: 0.9530 - val_loss: 0.9248 - val_acc: 0.8133\n",
      "Epoch 6/20\n",
      "7482/7482 [==============================] - 2s 315us/step - loss: 0.1707 - acc: 0.9530 - val_loss: 0.9891 - val_acc: 0.7920\n",
      "Epoch 7/20\n",
      "7482/7482 [==============================] - 3s 341us/step - loss: 0.1545 - acc: 0.9566 - val_loss: 1.0396 - val_acc: 0.7913\n",
      "Epoch 8/20\n",
      "7482/7482 [==============================] - 2s 319us/step - loss: 0.1473 - acc: 0.9566 - val_loss: 1.0392 - val_acc: 0.7993\n",
      "Epoch 9/20\n",
      "7482/7482 [==============================] - 2s 315us/step - loss: 0.1314 - acc: 0.9582 - val_loss: 1.0302 - val_acc: 0.8053\n",
      "Epoch 10/20\n",
      "7482/7482 [==============================] - 2s 319us/step - loss: 0.1274 - acc: 0.9567 - val_loss: 1.0415 - val_acc: 0.8007\n",
      "Epoch 11/20\n",
      "7482/7482 [==============================] - 2s 319us/step - loss: 0.1215 - acc: 0.9582 - val_loss: 1.0844 - val_acc: 0.7987\n",
      "Epoch 12/20\n",
      "7482/7482 [==============================] - 2s 319us/step - loss: 0.1185 - acc: 0.9559 - val_loss: 1.0894 - val_acc: 0.7893\n",
      "Epoch 13/20\n",
      "7482/7482 [==============================] - 2s 321us/step - loss: 0.1157 - acc: 0.9554 - val_loss: 1.1385 - val_acc: 0.7947\n",
      "Epoch 14/20\n",
      "7482/7482 [==============================] - 2s 317us/step - loss: 0.1068 - acc: 0.9576 - val_loss: 1.1134 - val_acc: 0.7913\n",
      "Epoch 15/20\n",
      "7482/7482 [==============================] - 2s 319us/step - loss: 0.1013 - acc: 0.9572 - val_loss: 1.1451 - val_acc: 0.7947\n",
      "Epoch 16/20\n",
      "7482/7482 [==============================] - 2s 319us/step - loss: 0.0976 - acc: 0.9570 - val_loss: 1.1215 - val_acc: 0.7973\n",
      "Epoch 17/20\n",
      "7482/7482 [==============================] - 2s 321us/step - loss: 0.0945 - acc: 0.9580 - val_loss: 1.1686 - val_acc: 0.7927\n",
      "Epoch 18/20\n",
      "7482/7482 [==============================] - 2s 319us/step - loss: 0.0883 - acc: 0.9582 - val_loss: 1.2586 - val_acc: 0.7793\n",
      "Epoch 19/20\n",
      "7482/7482 [==============================] - 2s 327us/step - loss: 0.0901 - acc: 0.9566 - val_loss: 1.2294 - val_acc: 0.7967\n",
      "Epoch 20/20\n",
      "7482/7482 [==============================] - 2s 321us/step - loss: 0.0845 - acc: 0.9567 - val_loss: 1.2811 - val_acc: 0.7833\n"
     ]
    }
   ],
   "source": [
    "history = model.fit(\n",
    "    partial_x_train, partial_y_train,\n",
    "    epochs=20,\n",
    "    batch_size=512,\n",
    "    validation_data=(x_val, y_val)\n",
    ")"
   ]
  },
  {
   "cell_type": "code",
   "execution_count": 52,
   "metadata": {},
   "outputs": [
    {
     "name": "stdout",
     "output_type": "stream",
     "text": [
      "available keys: dict_keys(['val_loss', 'val_acc', 'loss', 'acc'])\n"
     ]
    },
    {
     "data": {
      "image/png": "[encoded data removed]",
      "text/plain": [
       "<Figure size 432x288 with 1 Axes>"
      ]
     },
     "metadata": {
      "needs_background": "light"
     },
     "output_type": "display_data"
    },
    {
     "data": {
      "image/png": "[encoded data removed]",
      "text/plain": [
       "<Figure size 432x288 with 1 Axes>"
      ]
     },
     "metadata": {
      "needs_background": "light"
     },
     "output_type": "display_data"
    }
   ],
   "source": [
    "import matplotlib.pyplot as plt\n",
    "\n",
    "print(\"available keys:\",history.history.keys())\n",
    "#r = range(1, len(history.history[\"binary_accuracy\"]) + 1)\n",
    "\n",
    "plt.plot(history.history[\"loss\"], label=\"loss\")\n",
    "plt.plot(history.history[\"val_acc\"], label=\"val_acc\")\n",
    "plt.legend()\n",
    "plt.show()\n",
    "plt.close()\n",
    "\n",
    "plt.plot(history.history[\"acc\"], label=\"acc\")\n",
    "plt.plot(history.history[\"val_loss\"], label=\"val_loss\")\n",
    "plt.legend()\n",
    "plt.show()\n",
    "plt.close()"
   ]
  }
 ],
 "metadata": {
  "kernelspec": {
   "display_name": "Python 3",
   "language": "python",
   "name": "python3"
  },
  "language_info": {
   "codemirror_mode": {
    "name": "ipython",
    "version": 3
   },
   "file_extension": ".py",
   "mimetype": "text/x-python",
   "name": "python",
   "nbconvert_exporter": "python",
   "pygments_lexer": "ipython3",
   "version": "3.6.6"
  }
 },
 "nbformat": 4,
 "nbformat_minor": 2
}
