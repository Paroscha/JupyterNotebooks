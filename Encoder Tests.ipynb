{
 "cells": [
  {
   "cell_type": "code",
   "execution_count": 20,
   "metadata": {},
   "outputs": [
    {
     "name": "stdout",
     "output_type": "stream",
     "text": [
      "  color  outcome\n",
      "0     a        1\n",
      "1     b        2\n",
      "2     a        3\n",
      "3     c        2 \n",
      "\n",
      "  color\n",
      "0     a\n",
      "1     b\n",
      "2     a\n",
      "3     c \n",
      " \n",
      "    outcome\n",
      "0        1\n",
      "1        2\n",
      "2        3\n",
      "3        2 \n",
      "\n",
      "   color_0  color_1  color_2\n",
      "0        0        0        1\n",
      "1        0        1        0\n",
      "2        0        0        1\n",
      "3        0        1        1 \n",
      "\n"
     ]
    }
   ],
   "source": [
    "# import the packages\n",
    "import numpy as np\n",
    "import pandas as pd\n",
    "import category_encoders as ce\n",
    "\n",
    "# make some data\n",
    "df = pd.DataFrame({\n",
    " 'color':[\"a\", \"b\", \"a\", \"c\"], \n",
    " 'outcome':[1, 2, 3, 2]})\n",
    "\n",
    "print(df,'\\n')\n",
    "\n",
    "# split into X and y\n",
    "X = df.drop('outcome', axis = 1)\n",
    "y = df.drop('color', axis = 1)\n",
    "print(X,'\\n','\\n',y,'\\n')\n",
    "\n",
    "# instantiate an encoder - here we use Binary()\n",
    "ce_binary = ce.BinaryEncoder(cols = ['color'])\n",
    "\n",
    "# fit and transform and presto, you've got encoded data\n",
    "df_color = ce_binary.fit_transform(X, y)\n",
    "print(df_color,'\\n')\n"
   ]
  },
  {
   "cell_type": "code",
   "execution_count": null,
   "metadata": {},
   "outputs": [],
   "source": []
  }
 ],
 "metadata": {
  "kernelspec": {
   "display_name": "Python 3",
   "language": "python",
   "name": "python3"
  },
  "language_info": {
   "codemirror_mode": {
    "name": "ipython",
    "version": 3
   },
   "file_extension": ".py",
   "mimetype": "text/x-python",
   "name": "python",
   "nbconvert_exporter": "python",
   "pygments_lexer": "ipython3",
   "version": "3.6.5"
  }
 },
 "nbformat": 4,
 "nbformat_minor": 2
}
